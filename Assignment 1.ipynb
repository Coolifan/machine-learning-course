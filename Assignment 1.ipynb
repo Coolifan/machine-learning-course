{
 "cells": [
  {
   "cell_type": "markdown",
   "metadata": {},
   "source": [
    "# Assignment 1 - Probability, Linear Algebra, Programming, and Git\n",
    "\n",
    "## *Yifan Li*\n",
    "Netid:  *yl506*"
   ]
  },
  {
   "cell_type": "markdown",
   "metadata": {},
   "source": [
    "# Probability and Statistics Theory"
   ]
  },
  {
   "cell_type": "markdown",
   "metadata": {
    "collapsed": true
   },
   "source": [
    "## 1\n",
    "Let $f(x) = \\begin{cases}\n",
    "                0           & x < 0  \\\\\n",
    "                \\alpha x^2  & 0 \\leq x \\leq 2 \\\\\n",
    "                0           & 2 < x\n",
    "            \\end{cases}$\n",
    "            \n",
    "For what value of $\\alpha$ is $f(x)$ a valid probability density function?\n",
    "\n",
    "*Note: for all assignments, write out all equations and math for all assignments using markdown and [LaTeX](https://tobi.oetiker.ch/lshort/lshort.pdf) and show all work*"
   ]
  },
  {
   "cell_type": "markdown",
   "metadata": {},
   "source": [
    "**ANSWER**\n",
    "By the definition of probability density function, the cumulative distribution function $F(x) = \\int^\\infty_{-\\infty} f(x)dx = 1$, so $F(x) = \\int^2_0 ax^2 = 1$.\n",
    "\n",
    "After solving the equation, we have a = $\\frac{3}{8}$.\n"
   ]
  },
  {
   "cell_type": "markdown",
   "metadata": {},
   "source": [
    "## 2\n",
    "What is the cumulative distribution function (CDF) that corresponds to the following probability distribution function? Please state the value of the CDF for all possible values of $x$.\n",
    "\n",
    "$f(x) = \\begin{cases}\n",
    "    \\frac{1}{3} & 0 < x < 3 \\\\\n",
    "    0           & \\text{otherwise}\n",
    "    \\end{cases}$"
   ]
  },
  {
   "cell_type": "markdown",
   "metadata": {},
   "source": [
    "**ANSWER**\n",
    "By definition, $F_X(x) = \\int^x_{-\\infty}f_X(t)dt $. \n",
    "\n",
    "So if $x<0$, $F_X(x) = \\int^0_{-\\infty}0dx = 0$\n",
    "   \n",
    "   if $0<x<3$, $F_X(x) = \\int^0_{-\\infty}0dx + \\int^x_0\\frac{1}{3}dx = \\frac{x}{3} $\n",
    "   \n",
    "   and if $x>3$, $F_X(x) = \\int^3_0\\frac{1}{3}dx + 0 = 1$\n"
   ]
  },
  {
   "cell_type": "markdown",
   "metadata": {},
   "source": [
    "## 3\n",
    "For the probability distribution function for the random variable $X$,\n",
    "\n",
    "$f(x) = \\begin{cases}\n",
    "    \\frac{1}{3} & 0 < x < 3 \\\\\n",
    "    0           & \\text{otherwise}\n",
    "    \\end{cases}$\n",
    "    \n",
    "what is the (a) expected value and (b) variance of $X$. *Show all work*."
   ]
  },
  {
   "cell_type": "markdown",
   "metadata": {},
   "source": [
    "**ANSWER**\n",
    "\n",
    "(a) Expected value:\n",
    "By the definition of expected value, $E[X] = \\int^\\infty_{-\\infty}xf(x)dx$.\n",
    "\n",
    "Here, we have $E[X] = \\int^3_0 \\frac{1}{3}xdx = \\frac{3}{2}$. \n",
    "\n",
    "\n",
    "(b) Variance:\n",
    "By the definition of variance, $Var(X) = E[X^2] - E[X]^2$.\n",
    "\n",
    "And $E[X^2] = \\int^\\infty_{-\\infty}x^2f(x)dx = \\int^3_0 \\frac{1}{3}x^2dx = 3$.\n",
    "So $Var(X) = 3 - {\\frac{3}{2}}^2 = \\frac{3}{4}$\n"
   ]
  },
  {
   "cell_type": "markdown",
   "metadata": {},
   "source": [
    "## 4\n",
    "Consider the following table of data that provides the values of a discrete data vector $\\mathbf{x}$ of samples from the random variable $X$, where each entry in $\\mathbf{x}$ is given as $x_i$.\n",
    "\n",
    "*Table 1. Dataset N=5 observations*\n",
    "\n",
    "|        | $x_0$ | $x_1$ | $x_2$ | $x_3$ | $x_4$ |\n",
    "|------  |-------|-------|-------|-------|-------|\n",
    "|$\\textbf{x}$| 2     | 3     | 10    | -1    | -1    |\n",
    "\n",
    "What is the (a) mean, (b) variance, and the  of the data? \n",
    "\n",
    "*Show all work. Your answer should include the definition of mean, median, and variance in the context of discrete data.*"
   ]
  },
  {
   "cell_type": "markdown",
   "metadata": {},
   "source": [
    "**ANSWER**\n",
    "\n",
    "(a) Mean\n",
    "\n",
    "In the case of a discrete probability distribution of a random variable X, the mean is equal to the sum over every possible value weighted by the probability of that value. Here, I assume that all observations have the same possibility of $\\frac{1}{5}$ since we have $N = 5$. So $\\bar x = \\frac{1}{5}(2+3+10-1-1) = 2.6$\n",
    "\n",
    "\n",
    "(b) Variance\n",
    "\n",
    "The variance of a random variable $X$ is the expected value of the squared deviation from the mean of $X$.\n",
    "Here, $Var(X) = \\frac{1}{N} \\sum \\limits_{i=1}^{N}(X_i-\\mu)^2 $\n",
    "$ = \\frac{1}{5}\\sum\\limits_{i=0}^{4}(X_i-2.6)^2 = 20.3 $ "
   ]
  },
  {
   "cell_type": "markdown",
   "metadata": {},
   "source": [
    "## 5\n",
    "Review of counting from probability theory. \n",
    "\n",
    "(a) How many different 7-place licence plates are possible if the first 3 places only contain letters and te last 4 only contain numbers?\n",
    "\n",
    "(b) How many different batting orders are possible for a baseball team with 9 players?\n",
    "\n",
    "(c) How many batting orders of 5 players are possible for a team with 9 players total?\n",
    "\n",
    "(d) Let's assume this class has 26 students and we want to form project teams. How many unique teams of 3 are possible?\n",
    "\n",
    "*Hint: For each problem, determine if order matters, and if it should be calculated with or without replacement.*"
   ]
  },
  {
   "cell_type": "markdown",
   "metadata": {},
   "source": [
    "**ANSWER**\n",
    "\n",
    "(a) In this case, order matters (ABC1234 is different from CBA1234) and it should be calculated with replacement (the same digit/letter could be used more than once). So we have $26*26*26*10*10*10*10 = 1.7576*10^8 $different licence plates\n",
    "\n",
    "(b) In this case, order matters and it should be calculated without replacement. We have $9! = 362880$ possible orders.\n",
    "\n",
    "(c) In this case, order matters and it should be calculated without replacement. We have $C^9_5 * 5! = 15120$ possible orders.\n",
    "\n",
    "(d) In this case, order does not matter and it should be calculated without replacement. We have $C^{26}_3 = \\frac{26!}{23!3!} = 2600$ unique teams.\n"
   ]
  },
  {
   "cell_type": "markdown",
   "metadata": {},
   "source": [
    "# Linear Algebra"
   ]
  },
  {
   "cell_type": "markdown",
   "metadata": {},
   "source": [
    "## 6\n",
    "**Matrix manipulations and multiplication**. Machine learning involves working with many matrices, so this exercise will provide you with the opportunity to practice those skills.\n",
    "\n",
    "Let\n",
    "$\\mathbf{A} =  \\begin{bmatrix}\n",
    "1 & 2 & 3 \\\\\n",
    "2 & 4 & 5 \\\\\n",
    "3 & 5 & 6 \n",
    "\\end{bmatrix}$, $\\mathbf{b} =  \\begin{bmatrix}\n",
    "-1  \\\\\n",
    "3  \\\\\n",
    "8  \n",
    "\\end{bmatrix}$, $\\mathbf{c} =  \\begin{bmatrix}\n",
    "4  \\\\\n",
    "-3  \\\\\n",
    "6  \n",
    "\\end{bmatrix}$, and $\\mathbf{I} =  \\begin{bmatrix}\n",
    "1 & 0 & 0 \\\\\n",
    "0 & 1 & 0 \\\\\n",
    "0 & 0 & 1 \n",
    "\\end{bmatrix}$\n",
    "\n",
    "Compute the following or indicate that it cannot be computed:\n",
    "\n",
    "1. $\\mathbf{A}\\mathbf{A}$\n",
    "2. $\\mathbf{A}\\mathbf{A}^T$\n",
    "3. $\\mathbf{A}\\mathbf{b}$\n",
    "4. $\\mathbf{A}\\mathbf{b}^T$\n",
    "5. $\\mathbf{b}\\mathbf{A}$\n",
    "6. $\\mathbf{b}^T\\mathbf{A}$\n",
    "7. $\\mathbf{b}\\mathbf{b}$\n",
    "8. $\\mathbf{b}^T\\mathbf{b}$\n",
    "9. $\\mathbf{b}\\mathbf{b}^T$\n",
    "10. $\\mathbf{b} + \\mathbf{c}^T$\n",
    "11. $\\mathbf{b}^T\\mathbf{b}^T$\n",
    "12. $\\mathbf{A}^{-1}\\mathbf{b}$\n",
    "13. $\\mathbf{A}\\circ\\mathbf{A}$\n",
    "14. $\\mathbf{b}\\circ\\mathbf{c}$\n",
    "\n",
    "*Note: The element-wise (or Hadamard) product is the product of each element in one matrix with the corresponding element in another matrix, and is represented by the symbol \"$\\circ$\".*"
   ]
  },
  {
   "cell_type": "markdown",
   "metadata": {},
   "source": [
    "### **ANSWER**\n",
    "\n",
    "1. $\\mathbf{A}\\mathbf{A} =$ $\\begin{bmatrix}\n",
    "       14 & 25 & 31 \\\\\n",
    "       25 & 45 & 56 \\\\\n",
    "       31 & 56 & 70\n",
    "     \\end{bmatrix} $\n",
    "\n",
    "2. $\\mathbf{A}^T = \\mathbf{A}$, so the same answer as question 1, $\\mathbf{A}\\mathbf{A}^T =$\n",
    "$\\begin{bmatrix}\n",
    "       14 & 25 & 31 \\\\\n",
    "       25 & 45 & 56 \\\\\n",
    "       31 & 56 & 70\n",
    "     \\end{bmatrix} $\n",
    "     \n",
    "3. $\\mathbf{A}\\mathbf{b} = $ $\\begin{bmatrix}\n",
    "       29 \\\\\n",
    "       50 \\\\\n",
    "       60\n",
    "     \\end{bmatrix} $\n",
    "     \n",
    "4. $\\mathbf{A}\\mathbf{b}^T$ cannot be computed since $\\mathbf{A}$ has $3$ columns but $\\mathbf{b}^T$ has $1$ row.\n",
    "\n",
    "5. $\\mathbf{b}\\mathbf{A}$ cannot be computed since $\\mathbf{b}$ has $1$ column but $\\mathbf{A}$ has $3$ rows.\n",
    "\n",
    "6. $\\mathbf{b}^T\\mathbf{A} = $ $\\begin{bmatrix}\n",
    "       29 & 50 & 60 \\\\\n",
    "     \\end{bmatrix} $\n",
    "     \n",
    "7. $\\mathbf{b}\\mathbf{b}$ cannot be computed since $\\mathbf{b}$ has $1$ column but $3$ rows.\n",
    "\n",
    "8. $\\mathbf{b}^T\\mathbf{b} = $ $\\begin{bmatrix}\n",
    "        74\n",
    "        \\end{bmatrix} $\n",
    "\n",
    "9. $\\mathbf{b}\\mathbf{b}^T = $ $\\begin{bmatrix}\n",
    "        1 & -3 & -8 \\\\\n",
    "        -3 & 9 & 24 \\\\\n",
    "        -8 & 24 & 64\n",
    "        \\end{bmatrix} $\n",
    "        \n",
    "10. $\\mathbf{b}+\\mathbf{c}^T$ cannot be computed since $\\mathbf{b}$ has $3$ rows and $1$ column but $\\mathbf{c}^T$ has $1$ row and $3$ columns.\n",
    "\n",
    "11. $\\mathbf{b}^T\\mathbf{b}^T$ cannot be computed since $\\mathbf{b}^T$ has $1$ row and $3$ columns.\n",
    "\n",
    "12. $\\mathbf{A}^{-1}b = $ $\\begin{bmatrix}\n",
    "    6 \\\\\n",
    "    4 \\\\\n",
    "    -5\n",
    "    \\end{bmatrix} $\n",
    " \n",
    "13. $\\mathbf{A}\\circ \\mathbf{A} = $ $\\begin{bmatrix}\n",
    "    1 & 4 & 9 \\\\\n",
    "    4 & 16 & 25 \\\\\n",
    "    9 & 25 & 36\n",
    "    \\end{bmatrix} $\n",
    "    \n",
    "14. $\\mathbf{b}\\circ \\mathbf{c} = $ $\\begin{bmatrix} \n",
    "    -4 \\\\\n",
    "    -9 \\\\\n",
    "    48\n",
    "    \\end{bmatrix} $"
   ]
  },
  {
   "cell_type": "markdown",
   "metadata": {},
   "source": [
    "## 6\n",
    "**Eigenvectors and eigenvalues**. Eigenvectors and eigenvalues are useful for some machine learning algorithms, but the concepts take time to solidly grasp. For an intuitive review of these concepts, explore this [interactive website at Setosa.io](http://setosa.io/ev/eigenvectors-and-eigenvalues/). Also, the series of linear algebra videos by Grant Sanderson of 3Brown1Blue are excellent and can be viewed on youtube [here](https://www.youtube.com/playlist?list=PLZHQObOWTQDPD3MizzM2xVFitgF8hE_ab).\n",
    "\n",
    "1. Calculate the eigenvalues and corresponding eigenvectors of matrix $\\mathbf{A}$ above, from the last question.\n",
    "2. Choose one of the eigenvector/eigenvalue pairs, $\\mathbf{v}$ and $\\lambda$, and show that $\\mathbf{A} \\mathbf{v} = \\lambda \\mathbf{v}$. Also show that this relationship extends to higher orders: $\\mathbf{A} \\mathbf{A} \\mathbf{v} = \\lambda^2 \\mathbf{v}$\n",
    "3. Show that the eigenvectors are orthogonal to one another (e.g. their inner product is zero). This is true for real, symmetric matrices."
   ]
  },
  {
   "cell_type": "markdown",
   "metadata": {},
   "source": [
    "**ANSWER**\n",
    "1. To find eigenvalues, $det(A-\\lambda I) = $ $\\begin{vmatrix}\n",
    "        1-\\lambda & 2 & 3 \\\\\n",
    "        2 & 4-\\lambda & 5 \\\\\n",
    "        3 & 5 & 6-\\lambda\n",
    "        \\end{vmatrix} $ = $ -\\lambda^3 + 11\\lambda^2 +4\\lambda -1 = 0 $. Solve the equation, we have $\\lambda = 0.17092, -0.51573, 11.34481 $.\n",
    "   To find eigenvectors, solve $(A-\\lambda I)v = 0$ for each eigenvalue $\\lambda$. \n",
    "   \n",
    "   For $\\lambda = 0.17092$, we have $v1 = $ $\\begin{pmatrix}\n",
    "       1.80194 \\\\\n",
    "       -2.24698 \\\\\n",
    "       1\n",
    "       \\end{pmatrix}$\n",
    "       \n",
    "   For $\\lambda = -0.51573$, we have $v2 = $ $\\begin{pmatrix}\n",
    "       -1.24698 \\\\\n",
    "       -0.55496 \\\\\n",
    "       1\n",
    "       \\end{pmatrix}$\n",
    "       \n",
    "   For $\\lambda = 11.34481$, we have $v3 = $ $\\begin{pmatrix}\n",
    "       0.44504 \\\\\n",
    "       0.80194 \\\\\n",
    "       1\n",
    "       \\end{pmatrix}$\n",
    "       \n",
    "2. Verify when $\\lambda = 0.17092, Av = \\lambda v. Av = \\begin{bmatrix}\n",
    "        1 & 2 & 3 \\\\\n",
    "        2 & 4 & 5 \\\\\n",
    "        3 & 5 & 6\n",
    "        \\end{bmatrix}\\begin{pmatrix}\n",
    "       1.80194 \\\\\n",
    "       -2.24698 \\\\\n",
    "       1\n",
    "       \\end{pmatrix} = \\begin{pmatrix}\n",
    "       0.30798 \\\\\n",
    "       -0.38404 \\\\\n",
    "       0.17092\n",
    "       \\end{pmatrix} = \\lambda v = 0.17092 \\begin{pmatrix}\n",
    "       1.80194 \\\\\n",
    "       -2.24698 \\\\\n",
    "       1\n",
    "       \\end{pmatrix}$.\n",
    "\n",
    "    The relationship extends to higher order, $AAv = \\begin{bmatrix}\n",
    "        14 & 25& 31 \\\\\n",
    "        25 & 45 & 56 \\\\\n",
    "        31 & 56 & 70\n",
    "        \\end{bmatrix}\\begin{pmatrix}\n",
    "       1.80194 \\\\\n",
    "       -2.24698 \\\\\n",
    "       1\n",
    "       \\end{pmatrix} = \\begin{pmatrix}\n",
    "       0.05266 \\\\\n",
    "       -0.0656 \\\\\n",
    "       0.02926\n",
    "       \\end{pmatrix} = \\lambda^2 v = 0.0292 \\begin{pmatrix}\n",
    "       1.80194 \\\\\n",
    "       -2.24698 \\\\\n",
    "       1\n",
    "       \\end{pmatrix}$.\n",
    "       \n",
    "3. The inner product of $v1$ and $v2$ is $1.80194 * (-1.24698) + (-2.24698 * -0.55496) = 0$. So $v1$ and $v2$ are orthogonal. Same rule applies to any arbitrary pair of eigenvectors."
   ]
  },
  {
   "cell_type": "markdown",
   "metadata": {},
   "source": [
    "# Numerical Programming"
   ]
  },
  {
   "cell_type": "markdown",
   "metadata": {},
   "source": [
    "## 7\n",
    "Speed comparison between vectorized and non-vectorized code. Begin by creating an array of 10 million random numbers using the numpy random.randn module. Compute the sum of the squares first in a for loop, then using Numpy's `dot` module. Time how long it takes to compute each and report the results and report the output. How many times faster is the vectorized code than the for loop approach?\n",
    "\n",
    "*Note: all code should be well commented, properly formatted, and your answers should be output using the `print()` function as follows (where the # represents your answers, to a reasonable precision):\n",
    "\n",
    "`Time [sec] (non-vectorized): ######`\n",
    "\n",
    "`Time [sec] (vectorized):     ######`\n",
    "\n",
    "`The vectorized code is ##### times faster than the vectorized code`"
   ]
  },
  {
   "cell_type": "markdown",
   "metadata": {},
   "source": [
    "**ANSWER**"
   ]
  },
  {
   "cell_type": "code",
   "execution_count": 21,
   "metadata": {},
   "outputs": [
    {
     "name": "stdout",
     "output_type": "stream",
     "text": [
      "Time [sec] (non-vectorized): 1.90185\n",
      "Time [sec] (vectorized):     0.00576\n",
      "The vectorized code is 330 times faster than the non-vectorized code\n"
     ]
    }
   ],
   "source": [
    "import numpy as np\n",
    "import time\n",
    "\n",
    "# Generate the random samples\n",
    "array = np.random.randn(10000000)\n",
    "\n",
    "# Compute the sum of squares the non-vectorized way (using a for loop)\n",
    "start1 = time.time()\n",
    "result1 = 0\n",
    "for i in array:\n",
    "    result1 = result1 + i*i\n",
    "end1 = time.time()\n",
    "\n",
    "# Compute the sum of squares the vectorized way (using numpy)\n",
    "start2 = time.time()\n",
    "result2 = np.dot(array, array)\n",
    "end2 = time.time()\n",
    "\n",
    "# Print the results\n",
    "print(\"Time [sec] (non-vectorized): %.5f\"%(end1-start1))\n",
    "print(\"Time [sec] (vectorized):     %.5f\"%(end2-start2))\n",
    "timedifference = (end1-start1)/(end2-start2)\n",
    "print(\"The vectorized code is %d times faster than the non-vectorized code\" % timedifference)"
   ]
  },
  {
   "cell_type": "markdown",
   "metadata": {},
   "source": [
    "## 8\n",
    "One popular Agile development framework is Scrum (a paradigm recommended for data science projects). It emphasizes the continual evolution of code for projects, becoming progressively better, but starting with a quickly developed minimum viable product. This often means that code written early on is not optimized, and that's a good thing - it's best to get it to work first before optimizing. Imagine that you wrote the following code during a sprint towards getting an end-to-end system working. Vectorize the following code and show the difference in speed between the current implementation and a vectorized version.\n",
    "\n",
    "The function below computes the function $f(x,y) = x^2 - 2 y^2$ and determines whether this quantity is above or below a given threshold, `thresh=0`. This is done for $x,y \\in \\{-4,4\\}$, with 2,000 samples in each direction.\n",
    "\n",
    "(a) Vectorize this code and demonstrate (as in the last exercise) the speed increase through vectorization and (b) plot the resulting data - both the function $f(x,y)$ and the thresholded output - using [`imshow`](https://matplotlib.org/api/_as_gen/matplotlib.pyplot.imshow.html?highlight=matplotlib%20pyplot%20imshow#matplotlib.pyplot.imshow) from `matplotlib`.\n",
    "\n",
    "*Hint: look at the `numpy` [`meshgrid`](https://docs.scipy.org/doc/numpy-1.13.0/reference/generated/numpy.meshgrid.html) documentation*"
   ]
  },
  {
   "cell_type": "code",
   "execution_count": 22,
   "metadata": {},
   "outputs": [
    {
     "data": {
      "text/plain": [
       "array([[-4, -4],\n",
       "       [ 4,  4]])"
      ]
     },
     "execution_count": 22,
     "metadata": {},
     "output_type": "execute_result"
    }
   ],
   "source": [
    "import numpy as np\n",
    "import time\n",
    "import matplotlib.pyplot as plt\n",
    "\n",
    "# Initialize variables for this exerise\n",
    "x = np.array([-4,4])\n",
    "y = np.array([-4,4])\n",
    "thresh = 0\n",
    "# Nonvectorized implementation\n",
    "\n",
    "# Vectorized implementation\n",
    "xx, yy = np.meshgrid(x,y)\n",
    "\n",
    "# Print the time for each and the speed increase\n",
    "\n",
    "# Plot the result\n"
   ]
  },
  {
   "cell_type": "markdown",
   "metadata": {},
   "source": [
    "## 9\n",
    "This exercise will walk through some basic numerical programming exercises.\n",
    "1. Synthesize $n=10^4$ normally distributed data points with mean $\\mu=2$ and a standard deviation of $\\sigma=1$. Call these observations from a random variable $X$, and call the vector of observations that you generate, $\\textbf{x}$.\n",
    "2. Calculate the mean and standard deviation of $\\textbf{x}$ to validate (1) and provide the result to a precision of four significant figures.\n",
    "3. Plot a histogram of the data in $\\textbf{x}$ with 30 bins\n",
    "4. What is the 90th percentile of $\\textbf{x}$? The 90th percentile is the value below which 90% of observations can be found.\n",
    "5. What is the 99th percentile of $\\textbf{x}$?\n",
    "6. Now synthesize $n=10^4$ normally distributed data points with mean $\\mu=0$ and a standard deviation of $\\sigma=3$. Call these observations from a random variable $Y$, and call the vector of observations that you generate, $\\textbf{y}$.\n",
    "7. Plot the histogram of the data in $\\textbf{y}$ on a (new) plot with the histogram of $\\textbf{x}$, so that both histograms can be seen and compared.\n",
    "8. Using the observations from $\\textbf{x}$ and $\\textbf{y}$, estimate $E[XY]$"
   ]
  },
  {
   "cell_type": "markdown",
   "metadata": {},
   "source": [
    "**ANSWER**"
   ]
  },
  {
   "cell_type": "code",
   "execution_count": 61,
   "metadata": {},
   "outputs": [
    {
     "name": "stdout",
     "output_type": "stream",
     "text": [
      "2. The mean of X is 2.005\n",
      "   The standard deviation of X is 1.004\n",
      "4. The 90th percentile of X is 3.27344714888\n",
      "5. The 99th percentile of X is 4.33148610154\n"
     ]
    },
    {
     "data": {
      "image/png": "[encoded data removed]",
      "text/plain": [
       "<matplotlib.figure.Figure at 0x127e67978>"
      ]
     },
     "metadata": {},
     "output_type": "display_data"
    },
    {
     "name": "stdout",
     "output_type": "stream",
     "text": [
      "8. Assume X and Y are independent, E[XY] = E[X]*E[Y] = 0\n",
      "   The simulated calculation result: E[XY] = -0.0294899099112\n"
     ]
    }
   ],
   "source": [
    "import numpy as np\n",
    "import matplotlib.pyplot as plt\n",
    "# 1\n",
    "mu_x = 2\n",
    "sigma_x = 1\n",
    "X = sigma_x * np.random.randn(10000) + mu_x # Generate an array of size 10000, mean 2 and stdev of 1\n",
    "# 2\n",
    "avg = X.mean() # calculate the mean of the generated X observations\n",
    "print(\"2. The mean of X is %.3f\" % avg)\n",
    "stdev = X.std() # calculate the standard deviation\n",
    "print(\"   The standard deviation of X is %.3f\" %stdev)\n",
    "# 3\n",
    "num_bins = 30\n",
    "plt.figure()\n",
    "plt.subplot(3,1,1)\n",
    "n, bins, patches = plt.hist(X, num_bins, facecolor='blue', alpha=0.5) #plot the histogram with 30 bins\n",
    "plt.title('histogram of data in X with 30 bins')\n",
    "plt.xlabel('data')\n",
    "plt.ylabel('frequency')\n",
    "#plt.show()\n",
    "# 4\n",
    "percentile90 = np.percentile(X, 90)\n",
    "print(\"4. The 90th percentile of X is\", percentile90)\n",
    "# 5\n",
    "percentile99 = np.percentile(X, 99)\n",
    "print(\"5. The 99th percentile of X is\", percentile99)\n",
    "# 6\n",
    "mu_y = 0\n",
    "sigma_y = 3\n",
    "Y = sigma_y * np.random.randn(10000) + mu_y # Generate an array of size 10000, mean 0 and stdev of 3\n",
    "# 7\n",
    "plt.subplot(3,1,3)\n",
    "n, bins, patches = plt.hist(Y, num_bins, facecolor='blue', alpha=0.5) #plot the histogram with 30 bins\n",
    "plt.title('histogram of data in Y with 30 bins')\n",
    "plt.xlabel('data')\n",
    "plt.ylabel('frequency')\n",
    "plt.show()\n",
    "# 8\n",
    "XY = np.multiply(X,Y) # estimate E[XY] by element-wise multiply of two matrices, and take the average \n",
    "avg_XY = XY.mean()\n",
    "print(\"8. Assume X and Y are independent, E[XY] = E[X]*E[Y] = 0\")\n",
    "print(\"   The simulated calculation result: E[XY] =\", avg_XY)"
   ]
  },
  {
   "cell_type": "markdown",
   "metadata": {},
   "source": [
    "## 10\n",
    "Estimate the integral of the function $f(x)$ on the interval $0\\leq x < 2.5$ assuming we only know the following points from $f$:\n",
    "\n",
    "*Table 1. Dataset containing n=5 observations*\n",
    "\n",
    "| $x_i$ | 0.0 | 0.5 | 1.0 | 1.5 | 2.0 |\n",
    "|-|-|-|-|-|-|\n",
    "| $y_i$ | 6 | 7 | 8 | 4 | 1 |\n"
   ]
  },
  {
   "cell_type": "markdown",
   "metadata": {},
   "source": [
    "**ANSWER**\n",
    "\n",
    "Estimate using midpoint rectangle rule: \n",
    "\n",
    "step size is $0.5$, $\\int f(x)dx \\approx 0.5*\\frac{7+6}{2}+0.5*\\frac{8+7}{2}+0.5*\\frac{8+4}{2}+0.5*\\frac{4+1}{2} = 11.25$\n"
   ]
  },
  {
   "cell_type": "markdown",
   "metadata": {
    "collapsed": true
   },
   "source": [
    "# Version Control via Git"
   ]
  },
  {
   "cell_type": "markdown",
   "metadata": {},
   "source": [
    "## 11\n",
    "Complete the [Atlassian Git tutorial](https://www.atlassian.com/git/tutorials/what-is-version-control), specifically the following sections. Try each concept that's presented. For this tutorial, instead of using BitBucket, use Github. Create a github account here if you don't already have one: https://github.com/\n",
    "1. [What is version control](https://www.atlassian.com/git/tutorials/what-is-version-control)\n",
    "2. [What is Git](https://www.atlassian.com/git/tutorials/what-is-git)\n",
    "3. [Install Git](https://www.atlassian.com/git/tutorials/install-git)\n",
    "4. [Setting up a repository](https://www.atlassian.com/git/tutorials/install-git)\n",
    "5. [Saving changes](https://www.atlassian.com/git/tutorials/saving-changes)\n",
    "6. [Inspecting a repository](https://www.atlassian.com/git/tutorials/inspecting-a-repository)\n",
    "7. [Undoing changes](https://www.atlassian.com/git/tutorials/undoing-changes)\n",
    "8. [Rewriting history](https://www.atlassian.com/git/tutorials/rewriting-history)\n",
    "9. [Syncing](https://www.atlassian.com/git/tutorials/syncing)\n",
    "10. [Making a pull request](https://www.atlassian.com/git/tutorials/making-a-pull-request)\n",
    "11. [Using branches](https://www.atlassian.com/git/tutorials/using-branches)\n",
    "12. [Comparing workflows](https://www.atlassian.com/git/tutorials/comparing-workflows)\n",
    "\n",
    "For your answer, affirm that you either completed the tutorial or have previous experience with all of the concepts above. Do this by typing your name below and selecting the situation that applies from the two options in brackets."
   ]
  },
  {
   "cell_type": "markdown",
   "metadata": {},
   "source": [
    "**ANSWER**\n",
    "\n",
    "*I, [**your name here**], affirm that I have [**completed the above tutorial / I have previous experience that covers all the content in this tutorial**]*"
   ]
  },
  {
   "cell_type": "markdown",
   "metadata": {},
   "source": [
    "## 12\n",
    "Using Github to create a static HTML website:\n",
    "1. Create a branch in your `machine-learning-course` repo called \"gh-pages\" and checkout that branch (this will provide an example of how to create a simple static website using [Github Pages](https://pages.github.com/))\n",
    "2. Create a file called \"index.html\" with the contents \"Hello World\" and add, commit, and push it to that branch.\n",
    "3. Submit the following: (a) a link to your github repository and (b) a link to your new \"Hello World\" website. The latter should be at the address https://[USERNAME].github.io/ECE590-assignment0 (where [USERNAME] is your github username)."
   ]
  },
  {
   "cell_type": "markdown",
   "metadata": {},
   "source": [
    "**ANSWER**\n",
    "\n"
   ]
  },
  {
   "cell_type": "markdown",
   "metadata": {
    "collapsed": true
   },
   "source": [
    "# Exploratory Data Analysis\n",
    "## 13\n",
    "Here you'll bring together some of the individual skills that you demonstrated above and create a Jupyter notebook based blog post on data analysis.\n",
    "\n",
    "1. Find a dataset that interests you and relates to a question or problem that you find intriguing\n",
    "2. Using a Jupyter notebook, describe the dataset, the source of the data, and the reason the dataset was of interest.\n",
    "3. Check the data and see if they need to be cleaned: are there missing values? Are there clearly erroneous values? Do two tables need to be merged together? Clean the data so it can be visualized.\n",
    "3. Plot the data, demonstrating interesting features that you discover. Are there any relationships between variables that were surprising or patterns that emerged? Please exercise creativity and curiosity in your plots.\n",
    "4. What insights are you able to take away from exploring the data? Is there a reason why analyzing the dataset you chose is particularly interesting or important? Summarize this as if your target audience was the readership of a major news organization - boil down your findings in a way that is accessible, but still accurate.\n",
    "5. Create a public repository on your github account titled \"machine-learning-course\". In it, create a readme file that contains the heading \"ECE590: Introductory Machine Learning for Data Science\". Add, commit, and push that Jupyter notebook to the master branch. Provide the link to the that post here."
   ]
  },
  {
   "cell_type": "markdown",
   "metadata": {},
   "source": [
    "**ANSWER**\n",
    "\n"
   ]
  }
 ],
 "metadata": {
  "kernelspec": {
   "display_name": "Python 3",
   "language": "python",
   "name": "python3"
  },
  "language_info": {
   "codemirror_mode": {
    "name": "ipython",
    "version": 3
   },
   "file_extension": ".py",
   "mimetype": "text/x-python",
   "name": "python",
   "nbconvert_exporter": "python",
   "pygments_lexer": "ipython3",
   "version": "3.6.3"
  }
 },
 "nbformat": 4,
 "nbformat_minor": 2
}
